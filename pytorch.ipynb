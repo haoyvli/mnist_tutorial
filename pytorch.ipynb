{
 "cells": [
  {
   "cell_type": "markdown",
   "metadata": {},
   "source": [
    "# Pytorch Tutorial"
   ]
  },
  {
   "cell_type": "markdown",
   "metadata": {},
   "source": [
    "Pytorch is a popular deep learning framework and it's easy to get started."
   ]
  },
  {
   "cell_type": "code",
   "execution_count": 2,
   "metadata": {},
   "outputs": [],
   "source": [
    "import torch\n",
    "import torch.nn as nn\n",
    "import torch.optim as optim\n",
    "import torch.utils.data as data\n",
    "import torchvision\n",
    "import torchvision.transforms as transforms\n",
    "from tqdm import tqdm\n",
    "import time\n",
    "\n",
    "BATCH_SIZE = 128\n",
    "NUM_EPOCHS = 10"
   ]
  },
  {
   "cell_type": "markdown",
   "metadata": {},
   "source": [
    "First, we read the mnist data, preprocess them and encapsulate them into dataloader form."
   ]
  },
  {
   "cell_type": "code",
   "execution_count": 4,
   "metadata": {},
   "outputs": [],
   "source": [
    "# preprocessing\n",
    "normalize = transforms.Normalize(mean=[.5], std=[.5])\n",
    "transform = transforms.Compose([transforms.ToTensor(), normalize])\n",
    "\n",
    "# download and load the data\n",
    "train_dataset = torchvision.datasets.MNIST(root='./mnist/', train=True, transform=transform, download=True)\n",
    "test_dataset = torchvision.datasets.MNIST(root='./mnist/', train=False, transform=transform, download=False)\n",
    "\n",
    "# encapsulate them into dataloader form\n",
    "train_loader = data.DataLoader(train_dataset, batch_size=BATCH_SIZE, shuffle=True, drop_last=True)\n",
    "test_loader = data.DataLoader(test_dataset, batch_size=BATCH_SIZE, shuffle=False, drop_last=True)"
   ]
  },
  {
   "cell_type": "markdown",
   "metadata": {},
   "source": [
    "Then, we define the model, object function and optimizer that we use to classify."
   ]
  },
  {
   "cell_type": "code",
   "execution_count": 5,
   "metadata": {},
   "outputs": [],
   "source": [
    "learning_rate=0.02\n",
    "device = torch.device('cuda' if torch.cuda.is_available() else 'cpu')\n",
    "\n",
    "class SimpleNet(nn.Module):\n",
    "    def __init__(self, input_size=28, hidden_size=128, num_layers=2, num_classes=10):\n",
    "        super(SimpleNet, self).__init__()\n",
    "        self.hidden_size = hidden_size\n",
    "        self.num_layers = num_layers\n",
    "        self.lstm = nn.LSTM(input_size, hidden_size, num_layers, batch_first=True)\n",
    "        self.fc = nn.Linear(hidden_size, num_classes)\n",
    "\n",
    "    def forward(self, x):\n",
    "        # Set initial hidden and cell states\n",
    "        h0 = torch.zeros(self.num_layers, x.size(0), self.hidden_size).to(device)\n",
    "        c0 = torch.zeros(self.num_layers, x.size(0), self.hidden_size).to(device)\n",
    "\n",
    "        # Forward propagate LSTM\n",
    "        out, _ = self.lstm(x, (h0, c0))  # out: tensor of shape (batch_size, seq_length, hidden_size)\n",
    "\n",
    "        # Decode the hidden state of the last time step\n",
    "        out = self.fc(out[:, -1, :])\n",
    "        return out\n",
    "\n",
    "\n",
    "# 定义模型\n",
    "model = SimpleNet().to(device)\n",
    "\n",
    "# 损失函数和优化算法\n",
    "criterion = nn.CrossEntropyLoss()\n",
    "optimizer = torch.optim.Adam(model.parameters(), lr=learning_rate)"
   ]
  },
  {
   "cell_type": "markdown",
   "metadata": {},
   "source": [
    "Next, we can start to train and evaluate!"
   ]
  },
  {
   "cell_type": "code",
   "execution_count": 6,
   "metadata": {
    "scrolled": true
   },
   "outputs": [
    {
     "name": "stdout",
     "output_type": "stream",
     "text": [
      "Epoch [1/10], Step [100/468], Loss: 0.3751\n",
      "Epoch [1/10], Step [200/468], Loss: 0.2237\n",
      "Epoch [1/10], Step [300/468], Loss: 0.2084\n",
      "Epoch [1/10], Step [400/468], Loss: 0.1630\n",
      "Epoch [2/10], Step [100/468], Loss: 0.2837\n",
      "Epoch [2/10], Step [200/468], Loss: 0.4219\n",
      "Epoch [2/10], Step [300/468], Loss: 0.5196\n",
      "Epoch [2/10], Step [400/468], Loss: 0.4486\n",
      "Epoch [3/10], Step [100/468], Loss: 0.3339\n",
      "Epoch [3/10], Step [200/468], Loss: 0.3295\n",
      "Epoch [3/10], Step [300/468], Loss: 0.5432\n",
      "Epoch [3/10], Step [400/468], Loss: 0.2957\n",
      "Epoch [4/10], Step [100/468], Loss: 0.4274\n",
      "Epoch [4/10], Step [200/468], Loss: 0.4537\n",
      "Epoch [4/10], Step [300/468], Loss: 0.2409\n",
      "Epoch [4/10], Step [400/468], Loss: 0.2177\n",
      "Epoch [5/10], Step [100/468], Loss: 0.3817\n",
      "Epoch [5/10], Step [200/468], Loss: 0.1774\n",
      "Epoch [5/10], Step [300/468], Loss: 0.6464\n",
      "Epoch [5/10], Step [400/468], Loss: 0.2417\n",
      "Epoch [6/10], Step [100/468], Loss: 0.4406\n",
      "Epoch [6/10], Step [200/468], Loss: 0.2620\n",
      "Epoch [6/10], Step [300/468], Loss: 0.4457\n",
      "Epoch [6/10], Step [400/468], Loss: 0.2217\n",
      "Epoch [7/10], Step [100/468], Loss: 0.2120\n",
      "Epoch [7/10], Step [200/468], Loss: 0.3172\n",
      "Epoch [7/10], Step [300/468], Loss: 0.2189\n",
      "Epoch [7/10], Step [400/468], Loss: 0.3771\n",
      "Epoch [8/10], Step [100/468], Loss: 0.3657\n",
      "Epoch [8/10], Step [200/468], Loss: 0.2458\n",
      "Epoch [8/10], Step [300/468], Loss: 0.1310\n",
      "Epoch [8/10], Step [400/468], Loss: 0.3470\n",
      "Epoch [9/10], Step [100/468], Loss: 0.0952\n",
      "Epoch [9/10], Step [200/468], Loss: 0.2557\n",
      "Epoch [9/10], Step [300/468], Loss: 0.1293\n",
      "Epoch [9/10], Step [400/468], Loss: 0.2754\n",
      "Epoch [10/10], Step [100/468], Loss: 0.1450\n",
      "Epoch [10/10], Step [200/468], Loss: 0.1222\n",
      "Epoch [10/10], Step [300/468], Loss: 0.1712\n",
      "Epoch [10/10], Step [400/468], Loss: 0.1897\n",
      "The training accuracy is:  93.14212128520012 %\n",
      "The testing accuracy is: 94.24078525641026 %\n"
     ]
    }
   ],
   "source": [
    "# 训练模型\n",
    "total_step = len(train_loader)\n",
    "minloss=1\n",
    "for epoch in range(NUM_EPOCHS):\n",
    "    for i, (images, labels) in enumerate(train_loader):\n",
    "        images = images.reshape(-1, 28, 28).to(device)\n",
    "        labels = labels.to(device)\n",
    "\n",
    "        # 前向传播+计算loss\n",
    "        outputs = model(images)\n",
    "        loss = criterion(outputs, labels)\n",
    "\n",
    "        # 后向传播+调整参数\n",
    "        optimizer.zero_grad()\n",
    "        loss.backward()\n",
    "        optimizer.step()\n",
    "        # 每100个batch打印一次数据\n",
    "        if (i + 1) % 100 == 0:\n",
    "            print('Epoch [{}/{}], Step [{}/{}], Loss: {:.4f}'.format(epoch + 1, NUM_EPOCHS, i + 1, total_step, loss.item()))\n",
    "        if loss.item()<minloss:\n",
    "            minloss=loss.item()\n",
    "print(\"The training accuracy is: \",(1-minloss)*100,\"%\")\n",
    "\n",
    "# 模型测试部分\n",
    "# 测试阶段不需要计算梯度，注意\n",
    "with torch.no_grad():\n",
    "    correct = 0\n",
    "    total = 0\n",
    "    for images, labels in test_loader:\n",
    "        images = images.reshape(-1, 28, 28).to(device)\n",
    "        labels = labels.to(device)\n",
    "        outputs = model(images)\n",
    "        _, predicted = torch.max(outputs.data, 1)\n",
    "        total += labels.size(0)\n",
    "        correct += (predicted == labels).sum().item()\n",
    "\n",
    "print('The testing accuracy is: {} %'.format(100 * correct / total))"
   ]
  },
  {
   "cell_type": "markdown",
   "metadata": {},
   "source": [
    "#### Q5:\n",
    "Please print the training and testing accuracy."
   ]
  }
 ],
 "metadata": {
  "kernelspec": {
   "display_name": "Python 3",
   "language": "python",
   "name": "python3"
  },
  "language_info": {
   "codemirror_mode": {
    "name": "ipython",
    "version": 3
   },
   "file_extension": ".py",
   "mimetype": "text/x-python",
   "name": "python",
   "nbconvert_exporter": "python",
   "pygments_lexer": "ipython3",
   "version": "3.7.0"
  }
 },
 "nbformat": 4,
 "nbformat_minor": 2
}
